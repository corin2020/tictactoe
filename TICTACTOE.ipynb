{
  "nbformat": 4,
  "nbformat_minor": 0,
  "metadata": {
    "colab": {
      "name": "TICTACTOE.ipynb",
      "provenance": [],
      "collapsed_sections": [],
      "toc_visible": true
    },
    "kernelspec": {
      "name": "python3",
      "display_name": "Python 3"
    },
    "language_info": {
      "name": "python"
    }
  },
  "cells": [
    {
      "cell_type": "markdown",
      "metadata": {
        "id": "kvmQVYFK-GQB"
      },
      "source": [
        "# TASK 1"
      ]
    },
    {
      "cell_type": "markdown",
      "metadata": {
        "id": "N1dRLHP_-RgL"
      },
      "source": [
        "TICTACTOE"
      ]
    },
    {
      "cell_type": "code",
      "metadata": {
        "id": "3G-z-Bhr9oGg"
      },
      "source": [
        "from IPython.display import clear_output\n",
        "def tictactoe():\n",
        "    clear_output()\n",
        "    play_again = True;\n",
        "    print(\"Game is now starting:\")\n",
        "    while play_again:\n",
        "        board = [' ',' ',' ',' ',' ',' ',' ',' ',' ',]\n",
        "        a = 1                                                \n",
        "        print('PLAYER ',a,':Enter your Marker')\n",
        "        marker = input()\n",
        "        player_1 , player_2 = set_marker(marker)\n",
        "        while True:\n",
        "            if a > 2:\n",
        "              a = 1   \n",
        "            print('PLAYER ',a,':Enter your position')\n",
        "            pos = int(input())\n",
        "            if not check_pos(pos,board):\n",
        "                continue\n",
        "                         \n",
        "            if a == 1:\n",
        "                set_board(board,player_1,pos)\n",
        "            else:\n",
        "                set_board(board,player_2,pos)\n",
        "            \n",
        "            dispboard(board)\n",
        "            if a == 1:\n",
        "                if check_win(board,player_1):\n",
        "                    print('Player',a,'Won the match')\n",
        "                    break\n",
        "            else:\n",
        "                if check_win(board,player_2):\n",
        "                    print('Player',a,'Won the match')\n",
        "                    break\n",
        "            \n",
        "            if not check_space(board):\n",
        "                print('Draw!!!')\n",
        "                break\n",
        "                \n",
        "            a = a + 1\n",
        "            \n",
        "            \n",
        "        if not replay():\n",
        "            play_again = False\n",
        "def set_board(board,marker,pos):\n",
        "    board[pos] = marker\n",
        "    return board\n",
        "\n",
        "def check_win(board,marker):\n",
        "    return board[0] == marker and board[1] == marker and board[2] == marker or board[3] == marker and board[4] == marker and board[5] == marker or board[6] == marker and board[7] == marker and board[8] == marker or board[0] == marker and board[3] == marker and board[6] == marker or board[1] == marker and board[4] == marker and board[7] == marker or board[2] == marker and board[5] == marker and board[8] == marker or board[0] == marker and board[4] == marker and board[8] == marker or board[2] == marker and board[4] == marker and board[6] == marker \n",
        "def dispboard(board):\n",
        "    clear_output()\n",
        "    print(f'  {board[6]} | {board[7]} | {board[8]}')\n",
        "    print('-------------')\n",
        "    print(f'  {board[3]} | {board[4]} | {board[5]}')\n",
        "    print('-------------')\n",
        "    print(f'  {board[0]} | {board[1]} | {board[2]}')\n",
        "    \n",
        "    \n",
        "def replay():\n",
        "    print('Do you want to play Again?')\n",
        "    ans = input('y/n')\n",
        "    return ans == 'Y' or ans == 'y'\n",
        "\n",
        "def set_marker(marker):\n",
        "    if marker == 'X':\n",
        "        return ('X','O')\n",
        "    else:\n",
        "        return ('O','X')\n",
        "    \n",
        "def check_pos(pos,board):\n",
        "    if board[pos] != ' ':\n",
        "        print('Position is already filled')\n",
        "        return False\n",
        "    else:\n",
        "        return True\n",
        "def check_space(board):\n",
        "    for i in range(1,10):\n",
        "        if board[i] == ' ':\n",
        "            return True\n",
        "    return False"
      ],
      "execution_count": 1,
      "outputs": []
    },
    {
      "cell_type": "code",
      "metadata": {
        "colab": {
          "base_uri": "https://localhost:8080/"
        },
        "id": "Zi9P13B2EMru",
        "outputId": "8a5205bc-1c54-4857-bf2b-52a27c889330"
      },
      "source": [
        "tictactoe()"
      ],
      "execution_count": null,
      "outputs": [
        {
          "output_type": "stream",
          "text": [
            "  O |   |  \n",
            "-------------\n",
            "  X | O | X\n",
            "-------------\n",
            "    | X | O\n",
            "Player 2 Won the match\n",
            "Do you want to play Again?\n"
          ],
          "name": "stdout"
        }
      ]
    }
  ]
}